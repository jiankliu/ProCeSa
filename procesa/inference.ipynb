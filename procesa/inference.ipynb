{
 "cells": [
  {
   "cell_type": "code",
   "execution_count": null,
   "id": "61ca7134",
   "metadata": {},
   "outputs": [],
   "source": [
    "from FLIP.baselines.esm_next.models.esmc import ESMC\n",
    "import torch\n",
    "from build_dgl_graph import normalize_adj\n",
    "import numpy as np\n",
    "import dgl\n",
    "from utils import Config\n",
    "from models import build_model\n",
    "from utils_flip_self import *"
   ]
  },
  {
   "cell_type": "markdown",
   "id": "a09b51d9",
   "metadata": {},
   "source": [
    "## Regression Task Example\n",
    "We provide the example model weights trained on HP-S. Please download it from https://zenodo.org/records/15736743.\n",
    "\n",
    "⚠️Attention: Please train a new model on custom datasets."
   ]
  },
  {
   "cell_type": "code",
   "execution_count": 51,
   "id": "6234b9c5",
   "metadata": {},
   "outputs": [
    {
     "name": "stdout",
     "output_type": "stream",
     "text": [
      "==> load test checkpoint..\n",
      "test epoch:  10\n",
      "Predicted Tm: 51.55893325805664\n"
     ]
    }
   ],
   "source": [
    "seq = 'MNPLIKRIIFIVVVLGLWELGSQLQIWSELILPAPSSVGVALYEGFANMTLVYDFVASFRRLIIGLAIALFIGTSIGLLIAKSKTADDTIGSMLLAFQSVPSIVWLPLAMMWFGLNDKAVIFVVVLGGTFVMAMNVRSGIKNVSPDFIRAARTMGAKGFDLFIRVIFPASIPYFVTGSRLAWAFAWRALIAGELLSTGPGLGYTLSYASDFGEMELVIGVMIIIGVIGLIVDQVIFQRIEKSVAKRWGLEL'  # sampled from HP-S-test\n",
    "config = 'configs/S_esmc/model3.py'\n",
    "cfg = Config.fromfile(config)\n",
    "ckpt_path = 'results/S_esmc/seed-101/model3/epoch_best.pth'\n",
    "\n",
    "if len(seq) > 800:\n",
    "\tseq = seq[:800]\n",
    "encoder = ESMC.from_pretrained('esmc_600m')\n",
    "encoder.eval()\n",
    "if not torch.cuda.is_available():\n",
    "\traise RuntimeError('This script requires a GPU to run.')\n",
    "\n",
    "encoder = encoder.cuda()\n",
    "\n",
    "with torch.no_grad():\n",
    "\ttoks = encoder._tokenize([seq])\n",
    "\ttoks = toks.to('cuda')\n",
    "\t_, embedding, _, attention = encoder(toks)\n",
    "\tembedding = embedding[0, 1: len(seq) + 1].float().cpu().numpy()\n",
    "\tattention = attention[0, :len(seq), :len(seq)].float().cpu().numpy()\n",
    "\n",
    "\tsrc, dst = np.nonzero(attention)\n",
    "\tedge_feats = normalize_adj(attention)\n",
    "\tedge_feats = edge_feats[np.nonzero(edge_feats)]\n",
    "\tgraph = dgl.graph((src, dst), num_nodes=len(seq))\n",
    "\tgraph.ndata['x'] = torch.from_numpy(embedding).float()\n",
    "\tgraph.edata['x'] = torch.from_numpy(edge_feats).float()\n",
    "\tgraph = graph.to('cuda')\n",
    "\n",
    "\tmodel = build_model(cfg.model)\n",
    "\tmodel.eval()\n",
    "\tmodel = model.cuda()\n",
    "\tmodel, test_epoch = load_ckpt(model, ckpt_path)\n",
    "\tpred_tm = model.forward_test(graph)\n",
    "\tprint(f'Predicted Tm: {pred_tm.item()}')\n"
   ]
  },
  {
   "cell_type": "markdown",
   "id": "aae0e4e5",
   "metadata": {},
   "source": [
    "## Classification Task Example\n",
    "We provide the example model weights trained on HP-S with 5 classes. Please download it from https://zenodo.org/records/15736743.\n",
    "\n",
    "⚠️Attention: Please train a new model on custom datasets.\n"
   ]
  },
  {
   "cell_type": "code",
   "execution_count": 48,
   "id": "b470b259",
   "metadata": {},
   "outputs": [
    {
     "name": "stdout",
     "output_type": "stream",
     "text": [
      "==> load test checkpoint..\n",
      "test epoch:  9\n",
      "Predicted class: 3\n"
     ]
    }
   ],
   "source": [
    "seq = 'MNPLIKRIIFIVVVLGLWELGSQLQIWSELILPAPSSVGVALYEGFANMTLVYDFVASFRRLIIGLAIALFIGTSIGLLIAKSKTADDTIGSMLLAFQSVPSIVWLPLAMMWFGLNDKAVIFVVVLGGTFVMAMNVRSGIKNVSPDFIRAARTMGAKGFDLFIRVIFPASIPYFVTGSRLAWAFAWRALIAGELLSTGPGLGYTLSYASDFGEMELVIGVMIIIGVIGLIVDQVIFQRIEKSVAKRWGLEL'  # sampled from HP-S-test\n",
    "config = 'configs/S_esmc_cls/model0.py'\n",
    "cfg = Config.fromfile(config)\n",
    "ckpt_path = 'results/S_esmc_cls/seed-101/model0/epoch_best.pth'\n",
    "\n",
    "if len(seq) > 800:\n",
    "\tseq = seq[:800]\n",
    "encoder = ESMC.from_pretrained('esmc_600m')\n",
    "encoder.eval()\n",
    "if not torch.cuda.is_available():\n",
    "\traise RuntimeError('This script requires a GPU to run.')\n",
    "\n",
    "encoder = encoder.cuda()\n",
    "\n",
    "with torch.no_grad():\n",
    "\ttoks = encoder._tokenize([seq])\n",
    "\ttoks = toks.to('cuda')\n",
    "\t_, embedding, _, attention = encoder(toks)\n",
    "\tembedding = embedding[0, 1: len(seq) + 1].float().cpu().numpy()\n",
    "\tattention = attention[0, :len(seq), :len(seq)].float().cpu().numpy()\n",
    "\n",
    "\tsrc, dst = np.nonzero(attention)\n",
    "\tedge_feats = normalize_adj(attention)\n",
    "\tedge_feats = edge_feats[np.nonzero(edge_feats)]\n",
    "\tgraph = dgl.graph((src, dst), num_nodes=len(seq))\n",
    "\tgraph.ndata['x'] = torch.from_numpy(embedding).float()\n",
    "\tgraph.edata['x'] = torch.from_numpy(edge_feats).float()\n",
    "\tgraph = graph.to('cuda')\n",
    "\n",
    "\tmodel = build_model(cfg.model)\n",
    "\tmodel.eval()\n",
    "\tmodel = model.cuda()\n",
    "\tmodel, test_epoch = load_ckpt(model, ckpt_path)\n",
    "\tlogits = model.forward_test(graph)\n",
    "\tpred_cls = logits.argmax(dim=1).cpu().numpy()\n",
    "\tprint(f'Predicted class: {pred_cls[0]}')\n"
   ]
  }
 ],
 "metadata": {
  "kernelspec": {
   "display_name": "pt311cu121",
   "language": "python",
   "name": "python3"
  },
  "language_info": {
   "codemirror_mode": {
    "name": "ipython",
    "version": 3
   },
   "file_extension": ".py",
   "mimetype": "text/x-python",
   "name": "python",
   "nbconvert_exporter": "python",
   "pygments_lexer": "ipython3",
   "version": "3.11.8"
  }
 },
 "nbformat": 4,
 "nbformat_minor": 5
}
